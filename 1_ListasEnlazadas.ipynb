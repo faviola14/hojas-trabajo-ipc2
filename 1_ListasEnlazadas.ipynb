{
  "nbformat": 4,
  "nbformat_minor": 0,
  "metadata": {
    "colab": {
      "provenance": [],
      "authorship_tag": "ABX9TyNs0MKCimD2+eoQOwXCd5jE",
      "include_colab_link": true
    },
    "kernelspec": {
      "name": "python3",
      "display_name": "Python 3"
    },
    "language_info": {
      "name": "python"
    }
  },
  "cells": [
    {
      "cell_type": "markdown",
      "metadata": {
        "id": "view-in-github",
        "colab_type": "text"
      },
      "source": [
        "<a href=\"https://colab.research.google.com/github/faviola14/hojas-trabajo-ipc2/blob/master/1_ListasEnlazadas.ipynb\" target=\"_parent\"><img src=\"https://colab.research.google.com/assets/colab-badge.svg\" alt=\"Open In Colab\"/></a>"
      ]
    },
    {
      "cell_type": "markdown",
      "source": [
        "## LISTAS ENLAZADAS \n",
        "**Definición de la Clase Receta**"
      ],
      "metadata": {
        "id": "kPYaYNe7Zb_t"
      }
    },
    {
      "cell_type": "code",
      "execution_count": 29,
      "metadata": {
        "id": "Bh8H6sTHYSKB"
      },
      "outputs": [],
      "source": [
        "class receta:\n",
        "  def __init__(self, paciente, fecha_nac, doctor ,colegiado, fecha_cita, hora_cita, tipo_consulta,tratamiento):\n",
        "    self.paciente = paciente\n",
        "    self.fecha_nac = fecha_nac\n",
        "    self.doctor = doctor\n",
        "    self.colegiado = colegiado\n",
        "    self.fecha_cita = fecha_cita\n",
        "    self.hora_cita = hora_cita\n",
        "    self.tipo_consulta = tipo_consulta\n",
        "    self.tratamiento=tratamiento"
      ]
    },
    {
      "cell_type": "markdown",
      "source": [
        "**Definición de la Clase Nodo**"
      ],
      "metadata": {
        "id": "LW0umbWba2qQ"
      }
    },
    {
      "cell_type": "code",
      "source": [
        "class nodo:\n",
        "  def __init__(self, receta=None, siguiente=None):\n",
        "    self.receta = receta\n",
        "    self.siguiente = siguiente"
      ],
      "metadata": {
        "id": "MRXX7E9TbBjJ"
      },
      "execution_count": 30,
      "outputs": []
    },
    {
      "cell_type": "markdown",
      "source": [
        "**Definición de la Clase Lista Enlazada**"
      ],
      "metadata": {
        "id": "F879wAaAcTHR"
      }
    },
    {
      "cell_type": "code",
      "source": [
        "class lista_enlazada:\n",
        "  def __init__(self):\n",
        "    self.primero = None\n",
        "  \n",
        "  def insertar(self, receta):\n",
        "    if self.primero is None:\n",
        "      self.primero = nodo(receta=receta)\n",
        "      return \n",
        "    actual = self.primero \n",
        "    while actual.siguiente:\n",
        "      actual= actual.siguiente\n",
        "    actual.siguiente= nodo(receta=receta)\n",
        "\n",
        "  def recorrer(self):\n",
        "    actual=self.primero\n",
        "\n",
        "    while actual != None:\n",
        "      print (\"Paciente: \",actual.receta.paciente, \n",
        "             \"| Fecha de Nacimiento: \",actual.receta.fecha_nac, \n",
        "             \"| Doctor: \",actual.receta.doctor,\n",
        "             \"| Colegiado: \",actual.receta.colegiado,\n",
        "             \"| Fecha Cita \",actual.receta.fecha_cita,\n",
        "             \"| Hora Cita: \",actual.receta.hora_cita,\n",
        "             \"| Tipo Consulta: \",actual.receta.tipo_consulta,\n",
        "             \"| Tratamiento: \",actual.receta.tratamiento)\n",
        "      actual = actual.siguiente\n",
        "      \n",
        "  def eliminar(self,colegiado, fecha_cita, hora_cita):\n",
        "    actual =self.primero\n",
        "    anterior=None\n",
        "\n",
        "    while actual and actual.receta.colegiado != colegiado and actual.receta.fecha_cita != fecha_cita and actual.receta.hora_cita != hora_cita  :\n",
        "      anterior=actual\n",
        "      actual=actual.siguiente\n",
        "\n",
        "    if anterior is None:\n",
        "      self.primero = actual.siguiente\n",
        "      actual.siguiente = None\n",
        "    elif actual:\n",
        "      anterior.siguiente = actual.siguiente\n",
        "      actual.siguiente = None\n",
        "\n",
        "  def buscar (self,paciente, dia, hora):\n",
        "    actual=self.primero\n",
        "\n",
        "    while actual != None and actual.receta.paciente != paciente:\n",
        "      if actual.receta.paciente==paciente:\n",
        "        actual.receta.fecha_cita=dia\n",
        "        actual.receta.hora_cita=hora\n",
        "        break\n",
        "      actual = actual.siguiente\n",
        "\n",
        "\n",
        "    \n",
        "      "
      ],
      "metadata": {
        "id": "y79sx_8-cbmf"
      },
      "execution_count": 37,
      "outputs": []
    },
    {
      "cell_type": "markdown",
      "source": [
        "**Creación de Objetos Receta**"
      ],
      "metadata": {
        "id": "O24M89oAfFLj"
      }
    },
    {
      "cell_type": "code",
      "source": [
        "r1 = receta(\"Gerson López\", \"03-10-1990\", \"Melvin Ortiz\", 20156, \"17-01-2023\", \"11:30\", \"Medicina General\", \"2 pildoras de acetaminofén cada 6 horas\")\n",
        "r2 = receta(\"Karen Gómez\", \"08-05-2000\", \"Jorge Merida\", 8567, \"31-01-2023\", \"09:00\", \"Medicina Interna\", \"Tylenol de 20ml cada 4 horas\")\n",
        "r3 = receta(\"Luis García\", \"17-09-1987\", \"Melvin Ortiz\", 20156, \"02-02-2023\", \"12:00\", \"Medicina General\", \"2 cucharadas de Pepto-Bismol cada hora hasta que la diarrea desaparezca\")"
      ],
      "metadata": {
        "id": "MRBn1yRhfGbL"
      },
      "execution_count": 32,
      "outputs": []
    },
    {
      "cell_type": "markdown",
      "source": [
        "**Inserción**"
      ],
      "metadata": {
        "id": "4H86kCE9fU11"
      }
    },
    {
      "cell_type": "code",
      "source": [
        "lista_e=lista_enlazada()\n",
        "lista_e.insertar(r1)\n",
        "lista_e.insertar(r2)\n",
        "lista_e.insertar(r3)"
      ],
      "metadata": {
        "id": "6-O4KLKQfaEZ"
      },
      "execution_count": 33,
      "outputs": []
    },
    {
      "cell_type": "markdown",
      "source": [
        "**Recorrer**"
      ],
      "metadata": {
        "id": "vGHyi6fMgGSB"
      }
    },
    {
      "cell_type": "code",
      "source": [
        "lista_e.recorrer()"
      ],
      "metadata": {
        "colab": {
          "base_uri": "https://localhost:8080/"
        },
        "id": "Ibhl6Ai7gJIE",
        "outputId": "cf05e795-39f9-4197-d4b9-2bc38bad1532"
      },
      "execution_count": 34,
      "outputs": [
        {
          "output_type": "stream",
          "name": "stdout",
          "text": [
            "Paciente:  Gerson López | Fecha de Nacimiento:  03-10-1990 | Doctor:  Melvin Ortiz | Colegiado:  20156 | Fecha Cita  17-01-2023 | Hora Cita:  11:30 | Tipo Consulta:  Medicina General | Tratamiento:  2 pildoras de acetaminofén cada 6 horas\n",
            "Paciente:  Karen Gómez | Fecha de Nacimiento:  08-05-2000 | Doctor:  Jorge Merida | Colegiado:  8567 | Fecha Cita  31-01-2023 | Hora Cita:  09:00 | Tipo Consulta:  Medicina Interna | Tratamiento:  Tylenol de 20ml cada 4 horas\n",
            "Paciente:  Luis García | Fecha de Nacimiento:  17-09-1987 | Doctor:  Melvin Ortiz | Colegiado:  20156 | Fecha Cita  02-02-2023 | Hora Cita:  12:00 | Tipo Consulta:  Medicina General | Tratamiento:  2 cucharadas de Pepto-Bismol cada hora hasta que la diarrea desaparezca\n"
          ]
        }
      ]
    },
    {
      "cell_type": "markdown",
      "source": [
        "**Eliminar un Nodo de la Lista**"
      ],
      "metadata": {
        "id": "msZpgfo3Tlu8"
      }
    },
    {
      "cell_type": "code",
      "source": [
        "lista_e.eliminar(20156,\"17-01-2023\",\"11:30\")\n",
        "#lista_e.eliminar(8567,\"17-01-2023\",\"09:00\")\n",
        "#lista_e.eliminar(20156,\"02-02-2023\",\"12:00\")\n",
        "lista_e.recorrer()"
      ],
      "metadata": {
        "colab": {
          "base_uri": "https://localhost:8080/"
        },
        "id": "Q4eZw2PrTqeI",
        "outputId": "2c74bd8f-b197-4645-bc69-e2cb156820f3"
      },
      "execution_count": 35,
      "outputs": [
        {
          "output_type": "stream",
          "name": "stdout",
          "text": [
            "Paciente:  Karen Gómez | Fecha de Nacimiento:  08-05-2000 | Doctor:  Jorge Merida | Colegiado:  8567 | Fecha Cita  31-01-2023 | Hora Cita:  09:00 | Tipo Consulta:  Medicina Interna | Tratamiento:  Tylenol de 20ml cada 4 horas\n",
            "Paciente:  Luis García | Fecha de Nacimiento:  17-09-1987 | Doctor:  Melvin Ortiz | Colegiado:  20156 | Fecha Cita  02-02-2023 | Hora Cita:  12:00 | Tipo Consulta:  Medicina General | Tratamiento:  2 cucharadas de Pepto-Bismol cada hora hasta que la diarrea desaparezca\n"
          ]
        }
      ]
    },
    {
      "cell_type": "markdown",
      "source": [
        "**FUNCIÓN BUSCAR** por paciente y modificar fecha y hora de cita\n",
        "Hacer repo en github\n",
        "hojas-trabajo-ipc2"
      ],
      "metadata": {
        "id": "j4NWt3xYVgqv"
      }
    },
    {
      "cell_type": "code",
      "source": [
        "lista_e.buscar(\"Karen Gómez\",\"10-03-2023\",\"14:00\")\n",
        "lista_e.recorrer()"
      ],
      "metadata": {
        "colab": {
          "base_uri": "https://localhost:8080/"
        },
        "id": "SMtWnuXElJAn",
        "outputId": "3e477333-1201-45d3-cd14-887cd07a21d4"
      },
      "execution_count": 38,
      "outputs": [
        {
          "output_type": "stream",
          "name": "stdout",
          "text": [
            "Paciente:  Karen Gómez | Fecha de Nacimiento:  08-05-2000 | Doctor:  Jorge Merida | Colegiado:  8567 | Fecha Cita  31-01-2023 | Hora Cita:  09:00 | Tipo Consulta:  Medicina Interna | Tratamiento:  Tylenol de 20ml cada 4 horas\n",
            "Paciente:  Luis García | Fecha de Nacimiento:  17-09-1987 | Doctor:  Melvin Ortiz | Colegiado:  20156 | Fecha Cita  02-02-2023 | Hora Cita:  12:00 | Tipo Consulta:  Medicina General | Tratamiento:  2 cucharadas de Pepto-Bismol cada hora hasta que la diarrea desaparezca\n"
          ]
        }
      ]
    }
  ]
}