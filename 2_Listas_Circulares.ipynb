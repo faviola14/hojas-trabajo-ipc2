{
  "nbformat": 4,
  "nbformat_minor": 0,
  "metadata": {
    "colab": {
      "provenance": [],
      "authorship_tag": "ABX9TyOUS/ETKsUcTtuOFYJwU9AZ",
      "include_colab_link": true
    },
    "kernelspec": {
      "name": "python3",
      "display_name": "Python 3"
    },
    "language_info": {
      "name": "python"
    }
  },
  "cells": [
    {
      "cell_type": "markdown",
      "metadata": {
        "id": "view-in-github",
        "colab_type": "text"
      },
      "source": [
        "<a href=\"https://colab.research.google.com/github/faviola14/hojas-trabajo-ipc2/blob/master/2_Listas_Circulares.ipynb\" target=\"_parent\"><img src=\"https://colab.research.google.com/assets/colab-badge.svg\" alt=\"Open In Colab\"/></a>"
      ]
    },
    {
      "cell_type": "markdown",
      "source": [
        "**DEFINICIÓN DE CLASE RECETA**"
      ],
      "metadata": {
        "id": "WpmSeQ4Cbb38"
      }
    },
    {
      "cell_type": "code",
      "source": [
        "class receta:\n",
        "  def __init__(self, paciente, fecha_nac, doctor ,colegiado, fecha_cita, hora_cita, tipo_consulta,tratamiento):\n",
        "    self.paciente = paciente\n",
        "    self.fecha_nac = fecha_nac\n",
        "    self.doctor = doctor\n",
        "    self.colegiado = colegiado\n",
        "    self.fecha_cita = fecha_cita\n",
        "    self.hora_cita = hora_cita\n",
        "    self.tipo_consulta = tipo_consulta\n",
        "    self.tratamiento=tratamiento"
      ],
      "metadata": {
        "id": "AOemKJ_9bjBg"
      },
      "execution_count": 21,
      "outputs": []
    },
    {
      "cell_type": "markdown",
      "source": [
        "**DEFINICIÓN DE LA CLASE NODO**"
      ],
      "metadata": {
        "id": "pnrJsOanXd_W"
      }
    },
    {
      "cell_type": "code",
      "execution_count": 22,
      "metadata": {
        "id": "VZKSHDMWV9js"
      },
      "outputs": [],
      "source": [
        "class nodo:\n",
        "  def __init__(self, receta=None, siguiente=None):\n",
        "    self.receta = receta\n",
        "    self.siguiente = siguiente"
      ]
    },
    {
      "cell_type": "markdown",
      "source": [
        "**DEFINICIÓN DE LA CLASE CIRCULAR**"
      ],
      "metadata": {
        "id": "Qd1jd1vEXoeC"
      }
    },
    {
      "cell_type": "code",
      "source": [
        "class lista_circular:\n",
        "  def __init__(self):\n",
        "    self.primero = None\n",
        "\n",
        "  def insertar(self,receta):\n",
        "    if self.primero is None:\n",
        "      self.primero = nodo(receta=receta)\n",
        "      self.primero.siguiente = self.primero\n",
        "    else:\n",
        "      actual = nodo (receta=receta , siguiente=self.primero.siguiente)\n",
        "      self.primero.siguiente = actual\n",
        "\n",
        "  def recorrer(self):\n",
        "    if self.primero is None:\n",
        "      return\n",
        "    actual = self.primero\n",
        "    print (\"Paciente: \",actual.receta.paciente, \n",
        "             \"| Fecha de Nacimiento: \",actual.receta.fecha_nac, \n",
        "             \"| Doctor: \",actual.receta.doctor,\n",
        "             \"| Colegiado: \",actual.receta.colegiado,\n",
        "             \"| Fecha Cita \",actual.receta.fecha_cita,\n",
        "             \"| Hora Cita: \",actual.receta.hora_cita,\n",
        "             \"| Tipo Consulta: \",actual.receta.tipo_consulta,\n",
        "             \"| Tratamiento: \",actual.receta.tratamiento)\n",
        "    while actual.siguiente != self.primero:\n",
        "      actual = actual.siguiente\n",
        "      print (\"Paciente: \",actual.receta.paciente, \n",
        "             \"| Fecha de Nacimiento: \",actual.receta.fecha_nac, \n",
        "             \"| Doctor: \",actual.receta.doctor,\n",
        "             \"| Colegiado: \",actual.receta.colegiado,\n",
        "             \"| Fecha Cita \",actual.receta.fecha_cita,\n",
        "             \"| Hora Cita: \",actual.receta.hora_cita,\n",
        "             \"| Tipo Consulta: \",actual.receta.tipo_consulta,\n",
        "             \"| Tratamiento: \",actual.receta.tratamiento)\n",
        "      \n",
        "  def eliminar(self,colegiado, fecha_cita, hora_cita):\n",
        "    actual=self.primero\n",
        "    anterior= None\n",
        "    no_encontrado= False\n",
        "\n",
        "    while actual and actual.receta.colegiado != colegiado and actual.receta.fecha_cita != fecha_cita and actual.receta.hora_cita != hora_cita:\n",
        "      anterior = actual\n",
        "      actual = actual.siguiente\n",
        "      \n",
        "      if actual == self.primero:\n",
        "        no_encontrado=True\n",
        "        print(\"No encontrado\")\n",
        "        break;\n",
        "\n",
        "    if not no_encontrado:\n",
        "      if anterior is not None:\n",
        "        anterior.siguiente = actual.siguiente \n",
        "        actual.siguiente= None \n",
        "      else:\n",
        "        while actual.siguiente != self.primero:\n",
        "          actual=actual.siguiente\n",
        "        actual.siguiente =self.primero.siguiente\n",
        "        self.primero.siguiente = None\n",
        "\n",
        "  def modificar(self,paciente, fecha_cita, hora_cita):\n",
        "    actual=self.primero\n",
        "      \n",
        "    while actual != None:\n",
        "      if actual.receta.paciente==paciente:\n",
        "        actual.receta.fecha_cita=fecha_cita\n",
        "        actual.receta.hora_cita=hora_cita\n",
        "        break\n",
        "      actual = actual.siguiente\n",
        "   "
      ],
      "metadata": {
        "id": "ec66fa0BX_jM"
      },
      "execution_count": 23,
      "outputs": []
    },
    {
      "cell_type": "markdown",
      "source": [
        "**CREACIÓN DE OBJETOS RECETA**"
      ],
      "metadata": {
        "id": "jzC-Kp_zdJsM"
      }
    },
    {
      "cell_type": "markdown",
      "source": [],
      "metadata": {
        "id": "Pr3dDuBiwXwp"
      }
    },
    {
      "cell_type": "code",
      "source": [
        "r1 = receta(\"Gerson López\", \"03-10-1990\", \"Melvin Ortiz\", 20156, \"17-01-2023\", \"11:30\", \"Medicina General\", \"2 pildoras de acetaminofén cada 6 horas\")\n",
        "r2 = receta(\"Karen Gómez\", \"08-05-2000\", \"Jorge Merida\", 8567, \"31-01-2023\", \"09:00\", \"Medicina Interna\", \"Tylenol de 20ml cada 4 horas\")\n",
        "r3 = receta(\"Luis García\", \"17-09-1987\", \"Melvin Ortiz\", 20156, \"02-02-2023\", \"12:00\", \"Medicina General\", \"2 cucharadas de Pepto-Bismol cada hora hasta que la diarrea desaparezca\")"
      ],
      "metadata": {
        "id": "MKmM_PS-dQEh"
      },
      "execution_count": 24,
      "outputs": []
    },
    {
      "cell_type": "markdown",
      "source": [
        "**INSERCIÓN**"
      ],
      "metadata": {
        "id": "nuX5-JG3dTUO"
      }
    },
    {
      "cell_type": "code",
      "source": [
        "lista_c=lista_circular()\n",
        "lista_c.insertar(r1)\n",
        "lista_c.insertar(r2)\n",
        "lista_c.insertar(r3)"
      ],
      "metadata": {
        "id": "Kbk_0IpydnjA"
      },
      "execution_count": 25,
      "outputs": []
    },
    {
      "cell_type": "markdown",
      "source": [
        "**RECORRER**"
      ],
      "metadata": {
        "id": "9Ylaj5mLeAjd"
      }
    },
    {
      "cell_type": "code",
      "source": [
        "lista_c.recorrer()"
      ],
      "metadata": {
        "id": "1QnYwANYeDix",
        "colab": {
          "base_uri": "https://localhost:8080/"
        },
        "outputId": "33ea97ba-b6a5-4340-d2a0-f24f06f9d7a1"
      },
      "execution_count": 26,
      "outputs": [
        {
          "output_type": "stream",
          "name": "stdout",
          "text": [
            "Paciente:  Gerson López | Fecha de Nacimiento:  03-10-1990 | Doctor:  Melvin Ortiz | Colegiado:  20156 | Fecha Cita  17-01-2023 | Hora Cita:  11:30 | Tipo Consulta:  Medicina General | Tratamiento:  2 pildoras de acetaminofén cada 6 horas\n",
            "Paciente:  Luis García | Fecha de Nacimiento:  17-09-1987 | Doctor:  Melvin Ortiz | Colegiado:  20156 | Fecha Cita  02-02-2023 | Hora Cita:  12:00 | Tipo Consulta:  Medicina General | Tratamiento:  2 cucharadas de Pepto-Bismol cada hora hasta que la diarrea desaparezca\n",
            "Paciente:  Karen Gómez | Fecha de Nacimiento:  08-05-2000 | Doctor:  Jorge Merida | Colegiado:  8567 | Fecha Cita  31-01-2023 | Hora Cita:  09:00 | Tipo Consulta:  Medicina Interna | Tratamiento:  Tylenol de 20ml cada 4 horas\n"
          ]
        }
      ]
    },
    {
      "cell_type": "markdown",
      "source": [
        "**ELIMINACIÓN**"
      ],
      "metadata": {
        "id": "n26BTU0rhmJA"
      }
    },
    {
      "cell_type": "code",
      "source": [
        "lista_c.eliminar(8567,\"31-01-2023\",\"09:00\")\n"
      ],
      "metadata": {
        "id": "ohy5iwpWhpwS"
      },
      "execution_count": 27,
      "outputs": []
    },
    {
      "cell_type": "code",
      "source": [
        "lista_c.recorrer()"
      ],
      "metadata": {
        "colab": {
          "base_uri": "https://localhost:8080/"
        },
        "id": "Nbxdqgwzez27",
        "outputId": "b58bbe2b-39fc-400a-ce26-2e57d7f46d38"
      },
      "execution_count": 28,
      "outputs": [
        {
          "output_type": "stream",
          "name": "stdout",
          "text": [
            "Paciente:  Gerson López | Fecha de Nacimiento:  03-10-1990 | Doctor:  Melvin Ortiz | Colegiado:  20156 | Fecha Cita  17-01-2023 | Hora Cita:  11:30 | Tipo Consulta:  Medicina General | Tratamiento:  2 pildoras de acetaminofén cada 6 horas\n",
            "Paciente:  Luis García | Fecha de Nacimiento:  17-09-1987 | Doctor:  Melvin Ortiz | Colegiado:  20156 | Fecha Cita  02-02-2023 | Hora Cita:  12:00 | Tipo Consulta:  Medicina General | Tratamiento:  2 cucharadas de Pepto-Bismol cada hora hasta que la diarrea desaparezca\n"
          ]
        }
      ]
    },
    {
      "cell_type": "markdown",
      "source": [
        "**Función modificar**"
      ],
      "metadata": {
        "id": "Dnnz6w3lCqqL"
      }
    },
    {
      "cell_type": "code",
      "source": [
        "lista_c.modificar(\"Gerson López\",\"10-03-2023\",\"14:00\")\n",
        "lista_c.recorrer()"
      ],
      "metadata": {
        "id": "WjCXl59zRzhN",
        "colab": {
          "base_uri": "https://localhost:8080/"
        },
        "outputId": "5f875df4-9adb-4f18-8f79-c18d6c8d872f"
      },
      "execution_count": 29,
      "outputs": [
        {
          "output_type": "stream",
          "name": "stdout",
          "text": [
            "Paciente:  Gerson López | Fecha de Nacimiento:  03-10-1990 | Doctor:  Melvin Ortiz | Colegiado:  20156 | Fecha Cita  10-03-2023 | Hora Cita:  14:00 | Tipo Consulta:  Medicina General | Tratamiento:  2 pildoras de acetaminofén cada 6 horas\n",
            "Paciente:  Luis García | Fecha de Nacimiento:  17-09-1987 | Doctor:  Melvin Ortiz | Colegiado:  20156 | Fecha Cita  02-02-2023 | Hora Cita:  12:00 | Tipo Consulta:  Medicina General | Tratamiento:  2 cucharadas de Pepto-Bismol cada hora hasta que la diarrea desaparezca\n"
          ]
        }
      ]
    }
  ]
}