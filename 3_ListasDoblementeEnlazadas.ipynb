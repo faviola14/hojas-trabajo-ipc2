{
  "nbformat": 4,
  "nbformat_minor": 0,
  "metadata": {
    "colab": {
      "provenance": [],
      "authorship_tag": "ABX9TyMkXfZmshIbgKoi6Gnru1b0",
      "include_colab_link": true
    },
    "kernelspec": {
      "name": "python3",
      "display_name": "Python 3"
    },
    "language_info": {
      "name": "python"
    }
  },
  "cells": [
    {
      "cell_type": "markdown",
      "metadata": {
        "id": "view-in-github",
        "colab_type": "text"
      },
      "source": [
        "<a href=\"https://colab.research.google.com/github/faviola14/hojas-trabajo-ipc2/blob/master/3_ListasDoblementeEnlazadas.ipynb\" target=\"_parent\"><img src=\"https://colab.research.google.com/assets/colab-badge.svg\" alt=\"Open In Colab\"/></a>"
      ]
    },
    {
      "cell_type": "markdown",
      "source": [
        "**DEFINICIÓN CLASE RECETA**"
      ],
      "metadata": {
        "id": "BBOH6cezoiEL"
      }
    },
    {
      "cell_type": "code",
      "execution_count": 1,
      "metadata": {
        "id": "puH-uA97nPdD"
      },
      "outputs": [],
      "source": [
        "class receta:\n",
        "  def __init__(self, paciente, fecha_nac, doctor ,colegiado, fecha_cita, hora_cita, tipo_consulta,tratamiento):\n",
        "    self.paciente = paciente\n",
        "    self.fecha_nac = fecha_nac\n",
        "    self.doctor = doctor\n",
        "    self.colegiado = colegiado\n",
        "    self.fecha_cita = fecha_cita\n",
        "    self.hora_cita = hora_cita\n",
        "    self.tipo_consulta = tipo_consulta\n",
        "    self.tratamiento=tratamiento"
      ]
    },
    {
      "cell_type": "markdown",
      "source": [
        "**DEFINICIÓN CLASE NODO**"
      ],
      "metadata": {
        "id": "aihR4EzjomRT"
      }
    },
    {
      "cell_type": "code",
      "source": [
        "class nodo:\n",
        "  def __init__(self,receta=None, siguiente=None,anterior=None):\n",
        "    self.receta = receta\n",
        "    self.siguiente = siguiente\n",
        "    self.anterior=anterior"
      ],
      "metadata": {
        "id": "4UYqyLowosMr"
      },
      "execution_count": 2,
      "outputs": []
    },
    {
      "cell_type": "markdown",
      "source": [
        "**DEF. LISTA ENLAZADA**"
      ],
      "metadata": {
        "id": "U6CRHKzgpIbm"
      }
    },
    {
      "cell_type": "code",
      "source": [
        "class lista_doble():\n",
        "  def __init__(self):\n",
        "    self.primero= None\n",
        "\n",
        "  def insertar(self, receta):\n",
        "    if self.primero is None:\n",
        "      self.primero = nodo(receta=receta)\n",
        "    else:\n",
        "      actual = nodo(receta = receta, siguiente = self.primero)\n",
        "      self.primero.anterior = actual\n",
        "      self.primero= actual\n",
        "  \n",
        "\n",
        "  def recorrer (self):\n",
        "    if self.primero is None:\n",
        "      return\n",
        "    actual = self.primero\n",
        "    print (\"Paciente: \",actual.receta.paciente, \n",
        "             \"| Fecha de Nacimiento: \",actual.receta.fecha_nac, \n",
        "             \"| Doctor: \",actual.receta.doctor,\n",
        "             \"| Colegiado: \",actual.receta.colegiado,\n",
        "             \"| Fecha Cita \",actual.receta.fecha_cita,\n",
        "             \"| Hora Cita: \",actual.receta.hora_cita,\n",
        "             \"| Tipo Consulta: \",actual.receta.tipo_consulta,\n",
        "             \"| Tratamiento: \",actual.receta.tratamiento)\n",
        "    while actual.siguiente:\n",
        "      actual = actual.siguiente\n",
        "      print (\"Paciente: \",actual.receta.paciente, \n",
        "             \"| Fecha de Nacimiento: \",actual.receta.fecha_nac, \n",
        "             \"| Doctor: \",actual.receta.doctor,\n",
        "             \"| Colegiado: \",actual.receta.colegiado,\n",
        "             \"| Fecha Cita \",actual.receta.fecha_cita,\n",
        "             \"| Hora Cita: \",actual.receta.hora_cita,\n",
        "             \"| Tipo Consulta: \",actual.receta.tipo_consulta,\n",
        "             \"| Tratamiento: \",actual.receta.tratamiento)\n",
        "      \n",
        "  def eliminar(self,colegiado, fecha_cita, hora_cita):\n",
        "    actual = self.primero\n",
        "    while actual:\n",
        "         if actual.receta.colegiado ==colegiado and actual.receta.fecha_cita ==fecha_cita and actual.receta.hora_cita == hora_cita :\n",
        "           if actual.anterior:\n",
        "            if actual.siguiente:\n",
        "               actual.anterior.siguiente = actual.siguiente\n",
        "               actual.siguiente.anterior = actual.anterior\n",
        "            else:\n",
        "               actual.anterior.siguiente = None\n",
        "               actual.anterior = None\n",
        "           else:\n",
        "            if actual.siguiente:\n",
        "              self.primero =actual.siguiente\n",
        "              actual.siguiente.anterior = None\n",
        "            else:\n",
        "              self.primero = None\n",
        "           return True\n",
        "         else:\n",
        "           actual = actual.siguiente\n",
        "    return False\n",
        "\n",
        "  def modificar(self,paciente, dia, hora):\n",
        "    actual = self.primero\n",
        "    while actual:\n",
        "      if actual.receta.paciente==paciente:\n",
        "        actual.receta.fecha_cita=dia\n",
        "        actual.receta.hora_cita=hora\n",
        "        break\n",
        "      actual = actual.siguiente\n"
      ],
      "metadata": {
        "id": "KF-OQhcIpM4V"
      },
      "execution_count": 5,
      "outputs": []
    },
    {
      "cell_type": "markdown",
      "source": [
        "**CREACIÓN OBJETOS NODO**"
      ],
      "metadata": {
        "id": "FuqYHmIETkwL"
      }
    },
    {
      "cell_type": "code",
      "source": [
        "r1 = receta(\"Gerson López\", \"03-10-1990\", \"Melvin Ortiz\", 20156, \"17-01-2023\", \"11:30\", \"Medicina General\", \"2 pildoras de acetaminofén cada 6 horas\")\n",
        "r2 = receta(\"Karen Gómez\", \"08-05-2000\", \"Jorge Merida\", 8567, \"31-01-2023\", \"09:00\", \"Medicina Interna\", \"Tylenol de 20ml cada 4 horas\")\n",
        "r3 = receta(\"Luis García\", \"17-09-1987\", \"Melvin Ortiz\", 20156, \"02-02-2023\", \"12:00\", \"Medicina General\", \"2 cucharadas de Pepto-Bismol cada hora hasta que la diarrea desaparezca\")"
      ],
      "metadata": {
        "id": "SClCwWcUTqOi"
      },
      "execution_count": 6,
      "outputs": []
    },
    {
      "cell_type": "markdown",
      "source": [
        "INSERCIÓN"
      ],
      "metadata": {
        "id": "8xVaDtTkT91H"
      }
    },
    {
      "cell_type": "code",
      "source": [
        "lista_d =lista_doble()\n",
        "lista_d.insertar(r1)\n",
        "lista_d.insertar(r2)\n",
        "lista_d.insertar(r3)"
      ],
      "metadata": {
        "id": "R1YAMwavUAha"
      },
      "execution_count": 7,
      "outputs": []
    },
    {
      "cell_type": "markdown",
      "source": [
        "RECORRER LISTA"
      ],
      "metadata": {
        "id": "xXxSExvUUDY0"
      }
    },
    {
      "cell_type": "code",
      "source": [
        "lista_d.recorrer()"
      ],
      "metadata": {
        "colab": {
          "base_uri": "https://localhost:8080/"
        },
        "id": "ym9B-4K1UGqV",
        "outputId": "f5d27632-ca3f-4e29-d2d0-4b5fa96ba777"
      },
      "execution_count": 8,
      "outputs": [
        {
          "output_type": "stream",
          "name": "stdout",
          "text": [
            "Paciente:  Luis García | Fecha de Nacimiento:  17-09-1987 | Doctor:  Melvin Ortiz | Colegiado:  20156 | Fecha Cita  02-02-2023 | Hora Cita:  12:00 | Tipo Consulta:  Medicina General | Tratamiento:  2 cucharadas de Pepto-Bismol cada hora hasta que la diarrea desaparezca\n",
            "Paciente:  Karen Gómez | Fecha de Nacimiento:  08-05-2000 | Doctor:  Jorge Merida | Colegiado:  8567 | Fecha Cita  31-01-2023 | Hora Cita:  09:00 | Tipo Consulta:  Medicina Interna | Tratamiento:  Tylenol de 20ml cada 4 horas\n",
            "Paciente:  Gerson López | Fecha de Nacimiento:  03-10-1990 | Doctor:  Melvin Ortiz | Colegiado:  20156 | Fecha Cita  17-01-2023 | Hora Cita:  11:30 | Tipo Consulta:  Medicina General | Tratamiento:  2 pildoras de acetaminofén cada 6 horas\n"
          ]
        }
      ]
    },
    {
      "cell_type": "markdown",
      "source": [
        "ELIMINACIÓN"
      ],
      "metadata": {
        "id": "w9f1TmBcU-9U"
      }
    },
    {
      "cell_type": "code",
      "source": [
        "lista_d.eliminar(8567, \"31-01-2023\", \"09:00\")\n",
        "lista_d.recorrer()"
      ],
      "metadata": {
        "colab": {
          "base_uri": "https://localhost:8080/"
        },
        "id": "R8eHGmVCVDN4",
        "outputId": "73a4ae84-e663-4228-8e17-2a96013d3a41"
      },
      "execution_count": 9,
      "outputs": [
        {
          "output_type": "stream",
          "name": "stdout",
          "text": [
            "Paciente:  Luis García | Fecha de Nacimiento:  17-09-1987 | Doctor:  Melvin Ortiz | Colegiado:  20156 | Fecha Cita  02-02-2023 | Hora Cita:  12:00 | Tipo Consulta:  Medicina General | Tratamiento:  2 cucharadas de Pepto-Bismol cada hora hasta que la diarrea desaparezca\n",
            "Paciente:  Gerson López | Fecha de Nacimiento:  03-10-1990 | Doctor:  Melvin Ortiz | Colegiado:  20156 | Fecha Cita  17-01-2023 | Hora Cita:  11:30 | Tipo Consulta:  Medicina General | Tratamiento:  2 pildoras de acetaminofén cada 6 horas\n"
          ]
        }
      ]
    },
    {
      "cell_type": "markdown",
      "source": [
        "**MODIFICAR**"
      ],
      "metadata": {
        "id": "eyYPoenRDAK9"
      }
    },
    {
      "cell_type": "code",
      "source": [
        "lista_d.modificar(\"Luis García\",\"10-03-2023\",\"14:00\")\n",
        "lista_d.recorrer()"
      ],
      "metadata": {
        "id": "j-0-oMabDGc7",
        "colab": {
          "base_uri": "https://localhost:8080/"
        },
        "outputId": "d93a747d-8c81-41f3-82e0-cd53ce48ac1c"
      },
      "execution_count": 11,
      "outputs": [
        {
          "output_type": "stream",
          "name": "stdout",
          "text": [
            "Paciente:  Luis García | Fecha de Nacimiento:  17-09-1987 | Doctor:  Melvin Ortiz | Colegiado:  20156 | Fecha Cita  10-03-2023 | Hora Cita:  14:00 | Tipo Consulta:  Medicina General | Tratamiento:  2 cucharadas de Pepto-Bismol cada hora hasta que la diarrea desaparezca\n",
            "Paciente:  Gerson López | Fecha de Nacimiento:  03-10-1990 | Doctor:  Melvin Ortiz | Colegiado:  20156 | Fecha Cita  17-01-2023 | Hora Cita:  11:30 | Tipo Consulta:  Medicina General | Tratamiento:  2 pildoras de acetaminofén cada 6 horas\n"
          ]
        }
      ]
    }
  ]
}